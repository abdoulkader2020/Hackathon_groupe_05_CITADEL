{
 "cells": [
  {
   "cell_type": "code",
   "execution_count": 42,
   "id": "f7e056a2-41ad-46ea-ab36-ffbc0d1eec17",
   "metadata": {},
   "outputs": [
    {
     "name": "stderr",
     "output_type": "stream",
     "text": [
      "[nltk_data] Downloading package udhr to /home/ibr/nltk_data...\n",
      "[nltk_data]   Package udhr is already up-to-date!\n",
      "[nltk_data] Downloading package vader_lexicon to\n",
      "[nltk_data]     /home/ibr/nltk_data...\n"
     ]
    }
   ],
   "source": [
    "import pandas as pd\n",
    "import numpy as np\n",
    "import os\n",
    "import json\n",
    "import nltk\n",
    "nltk.download('udhr')\n",
    "nltk.download('vader_lexicon')\n",
    "from nltk.corpus import udhr\n",
    "from nltk.stem import PorterStemmer\n",
    "from nltk.stem import WordNetLemmatizer\n",
    "from nltk.corpus import stopwords\n",
    "from nltk.stem.snowball import FrenchStemmer\n",
    "from nltk.stem.snowball import SnowballStemmer\n",
    "import matplotlib.pyplot as plt\n",
    "import seaborn as sns\n",
    "import re\n",
    "regex = r\"\\b[aà]\\b\""
   ]
  },
  {
   "cell_type": "code",
   "execution_count": 3,
   "id": "8a14fc80-c698-4476-9ac0-75b2c2d8146d",
   "metadata": {},
   "outputs": [],
   "source": [
    "def to_lower(array_string):\n",
    "    ret_value = []\n",
    "    for i in array_string:\n",
    "        ret_value.append(i.lower())\n",
    "    return ret_value"
   ]
  },
  {
   "cell_type": "code",
   "execution_count": 4,
   "id": "f062079e-007b-41b6-a029-689810436827",
   "metadata": {},
   "outputs": [],
   "source": [
    "def get_all_comment(comment_column):\n",
    "    commentaires = []\n",
    "    for i in comment_column:\n",
    "        for j in i:\n",
    "            comment = j['Comment'].lower()\n",
    "            commentaires.append(comment)\n",
    "    return commentaires"
   ]
  },
  {
   "cell_type": "code",
   "execution_count": 5,
   "id": "2da37032-c2d5-4d24-aa16-4e025164548d",
   "metadata": {},
   "outputs": [],
   "source": [
    "def tokenize(messages):\n",
    "    tokenize_message = []\n",
    "    for i in messages:\n",
    "        tokenize_message.append(nltk.word_tokenize(i, language='french'))\n",
    "    return tokenize_message"
   ]
  },
  {
   "cell_type": "code",
   "execution_count": 6,
   "id": "445eab3e-4ba2-4c57-b7c6-44cc06dc708d",
   "metadata": {},
   "outputs": [],
   "source": [
    "def cleaning(messages, stopWords):\n",
    "    clean_words = []\n",
    "    for i in messages:\n",
    "        tokens = []\n",
    "        for token in i:\n",
    "            if token not in stopWords:\n",
    "                token = token.replace('’', '')\n",
    "                token = re.sub(regex, '', token, flags=re.MULTILINE)\n",
    "                tokens.append(token)\n",
    "        clean_words.append(tokens)\n",
    "    return clean_words"
   ]
  },
  {
   "cell_type": "code",
   "execution_count": 7,
   "id": "f7d075ea-6967-4828-9297-0fa3941a1db3",
   "metadata": {},
   "outputs": [],
   "source": [
    "def stemisation(messages):\n",
    "    # stemmer = SnowballStemmer(language='french')\n",
    "    stemmer = FrenchStemmer()\n",
    "    stemmer_words = []\n",
    "    for i in messages:\n",
    "        stems = []\n",
    "        for stem in i:\n",
    "            stems.append(stemmer.stem(stem))\n",
    "        # stems = set(stems)\n",
    "        stemmer_words.append(stems)\n",
    "    return stemmer_words\n",
    "    "
   ]
  },
  {
   "cell_type": "code",
   "execution_count": 8,
   "id": "904c3940-cdc3-41d0-8da6-1090998384f1",
   "metadata": {},
   "outputs": [],
   "source": [
    "file_path = os.path.join(os.getcwd(), \"dataset/dataset_lien_le_fasonet.json\") "
   ]
  },
  {
   "cell_type": "code",
   "execution_count": 9,
   "id": "d666ceaf-031d-46a5-abaa-dafde9bda38a",
   "metadata": {},
   "outputs": [],
   "source": [
    "data = pd.read_json(file_path)"
   ]
  },
  {
   "cell_type": "code",
   "execution_count": 10,
   "id": "ff74c4ba-0d8c-4b7b-a912-082aae553956",
   "metadata": {},
   "outputs": [],
   "source": [
    "#data.head(10)"
   ]
  },
  {
   "cell_type": "code",
   "execution_count": 11,
   "id": "7b0dfdbb-8fe3-4ddb-a7c1-e0c107a47051",
   "metadata": {},
   "outputs": [],
   "source": [
    "commentaires_corpus = get_all_comment(data['Comments'])"
   ]
  },
  {
   "cell_type": "code",
   "execution_count": 12,
   "id": "f0f97251-cc7f-4354-b4b6-a9099845d8eb",
   "metadata": {},
   "outputs": [],
   "source": [
    "french_words = udhr.words('French_Francais-Latin1')"
   ]
  },
  {
   "cell_type": "code",
   "execution_count": 13,
   "id": "53ac0ddc-2f74-4a5a-85a0-ac2711a7aede",
   "metadata": {},
   "outputs": [],
   "source": [
    "words = to_lower(french_words)"
   ]
  },
  {
   "cell_type": "code",
   "execution_count": 14,
   "id": "bc9354cc-b9cc-4f65-9024-3151f0a91336",
   "metadata": {},
   "outputs": [],
   "source": [
    "text = nltk.Text(words)"
   ]
  },
  {
   "cell_type": "code",
   "execution_count": 15,
   "id": "00b0081e-7f1e-408a-954e-c6c80a928d72",
   "metadata": {},
   "outputs": [
    {
     "name": "stderr",
     "output_type": "stream",
     "text": [
      "[nltk_data] Downloading package stopwords to /home/ibr/nltk_data...\n",
      "[nltk_data]   Package stopwords is already up-to-date!\n"
     ]
    }
   ],
   "source": [
    "nltk.download('stopwords')\n",
    "stpw = stopwords.words('french')\n",
    "stpw.append(',')\n",
    "stpw.append(';')\n",
    "stpw.append('.')\n",
    "stpw.append('%')\n",
    "stpw.append(\"'\")\n",
    "stpw.append(':')\n",
    "stpw.append('l')\n",
    "stpw.append('qu')\n",
    "stpw.append('au')\n",
    "stpw.append('!')\n",
    "stpw.append('?')\n",
    "stpw.append('d')\n",
    "stpw.append('(')\n",
    "stpw.append(')')\n",
    "stpw.append('`')\n",
    "stpw.append(\"'\")\n",
    "stpw.append(itm for itm in ['’',\"''\",'a'])\n",
    "stpw.append(itm for itm in [\"’\",\"a\",\"plus\",\"comme\",\"cet\",\"bien\",\"san\",\"être\",\"''\",\"``\",\"leur\",\"cel\",\"peut\",\"dit\",\"ceux\",\"bon\", 'ça','à'])\n",
    "stpw = set(stpw)"
   ]
  },
  {
   "cell_type": "markdown",
   "id": "35d67e84-508e-48b8-91cb-bd053740552e",
   "metadata": {},
   "source": [
    "## Chargement des données de tendances"
   ]
  },
  {
   "cell_type": "code",
   "execution_count": 16,
   "id": "664420f5-029d-40da-b5f9-4814f212a4b2",
   "metadata": {},
   "outputs": [],
   "source": [
    "tendances = ['EI','EIS','FAMa','FAR','FDS','GANE','IED','JNIM','MINUSMA','MPSR','RN','VDP','ZIM','etat islamique','etat islamique du sahel','Forces armees du Mali','Forces armees regulieres','Groupes Arme Non Etatique','Engins explosifs improvises','Jamaat Nasr Al islam wa Al mouslimin','Mission Multidimensionnelle Integree des Nations Unies pour la Stabilisation au Mali','Mouvement Patriotique pour la Sauvegarde et la Restauration','Route Nationale','Volontaires de defense pour la Patrie','Zone d\\'interet militaire']"
   ]
  },
  {
   "cell_type": "code",
   "execution_count": 17,
   "id": "d46c7a98-8118-4503-bc7f-7d5b45d34181",
   "metadata": {},
   "outputs": [],
   "source": [
    "tendances= to_lower(tendances)"
   ]
  },
  {
   "cell_type": "code",
   "execution_count": 18,
   "id": "9cdaef43-4480-4a2a-a437-d47f57f57098",
   "metadata": {},
   "outputs": [],
   "source": [
    "## Cleanning data"
   ]
  },
  {
   "cell_type": "code",
   "execution_count": null,
   "id": "1545407c-30f8-4de2-a4d5-6822bdc69d9b",
   "metadata": {},
   "outputs": [],
   "source": []
  },
  {
   "cell_type": "markdown",
   "id": "d6a4c0a0-d8c8-45fa-918a-ba3007bdfb8f",
   "metadata": {},
   "source": [
    "## Tokenisation"
   ]
  },
  {
   "cell_type": "code",
   "execution_count": 19,
   "id": "19396978-fb4b-42b4-b30d-71e8d708f836",
   "metadata": {},
   "outputs": [],
   "source": [
    "#tokenized_commentaire = nltk.word_tokenize(commentaires_corpus, language='french')\n",
    "tokenize_comment = tokenize(commentaires_corpus)\n",
    "tokenize_tendance = tokenize(tendances)"
   ]
  },
  {
   "cell_type": "code",
   "execution_count": 20,
   "id": "bae2489f-fda2-4da0-878e-1651671488db",
   "metadata": {},
   "outputs": [],
   "source": [
    "commentaire_clean = cleaning(tokenize_comment, stpw)\n",
    "tendance_clean = cleaning(tokenize_tendance, stpw)"
   ]
  },
  {
   "cell_type": "markdown",
   "id": "3d9fd0a8-af1c-443b-b83e-c6c628d7f97c",
   "metadata": {},
   "source": [
    "## racinisation"
   ]
  },
  {
   "cell_type": "code",
   "execution_count": 21,
   "id": "5fd6af11-aa33-4aca-8f04-d23dc224e8e5",
   "metadata": {},
   "outputs": [],
   "source": [
    "# comment_stems= stemisation([['commentaire', 'commenter']])\n",
    "comment_stems= stemisation(commentaire_clean)\n",
    "tendance_stems= stemisation(tendance_clean)\n",
    "flat_tendance = [item for line in tendance_stems for item in line]"
   ]
  },
  {
   "cell_type": "code",
   "execution_count": 22,
   "id": "ad4d266f-6899-4918-bcbb-ed0cc819eaa6",
   "metadata": {},
   "outputs": [],
   "source": [
    "flat_comment = [item for line in comment_stems for item in line]"
   ]
  },
  {
   "cell_type": "code",
   "execution_count": 82,
   "id": "3ab67d3e-280c-42bd-8eb9-062ccd32dc4e",
   "metadata": {},
   "outputs": [
    {
     "data": {
      "text/plain": [
       "terror      12946\n",
       "pay         10244\n",
       "si           9731\n",
       "plus         9710\n",
       "comm         8825\n",
       "cet          8681\n",
       "fait         7645\n",
       "burkin       7634\n",
       "faut         7465\n",
       "fd           6885\n",
       "tous         6819\n",
       "fair         6743\n",
       "autr         6648\n",
       "bien         5985\n",
       "san          5652\n",
       "être         5533\n",
       "''           5522\n",
       "``           5380\n",
       "leur         5338\n",
       "armé         4875\n",
       "attaqu       4817\n",
       "dieu         4804\n",
       "franc        4636\n",
       "peupl        4548\n",
       "contr        4485\n",
       "cel          4407\n",
       "militair     4336\n",
       "peut         4333\n",
       "car          4242\n",
       "faso         4241\n",
       "dit          4192\n",
       "quand        4111\n",
       "dir          4101\n",
       "ceux         4062\n",
       "popul        4002\n",
       "mal          3945\n",
       "bon          3929\n",
       "forc         3927\n",
       "auss         3857\n",
       "seul         3742\n",
       "ça           3715\n",
       "rien         3528\n",
       "temp         3524\n",
       "person       3506\n",
       "certain      3498\n",
       "sécur        3498\n",
       "paix         3491\n",
       "part         3403\n",
       "gouvern      3389\n",
       "vrai         3349\n",
       "dtype: int64"
      ]
     },
     "execution_count": 82,
     "metadata": {},
     "output_type": "execute_result"
    },
    {
     "data": {
      "image/png": "[encoded data removed]",
      "text/plain": [
       "<Figure size 1447.2x813.6 with 1 Axes>"
      ]
     },
     "metadata": {},
     "output_type": "display_data"
    }
   ],
   "source": [
    "df_comment = pd.DataFrame(flat_comment)\n",
    "df_comment.value_counts()[0]\n",
    "top_50 = df_comment.value_counts().iloc[2:52]\n",
    "top_50.plot(kind='bar')\n",
    "top_50.to"
   ]
  },
  {
   "cell_type": "code",
   "execution_count": 298,
   "id": "96166948-9737-49d1-b629-6ead8dda8870",
   "metadata": {},
   "outputs": [
    {
     "data": {
      "text/plain": [
       "<Figure size 432x288 with 0 Axes>"
      ]
     },
     "metadata": {},
     "output_type": "display_data"
    }
   ],
   "source": []
  },
  {
   "cell_type": "code",
   "execution_count": 33,
   "id": "025b6114-94a3-49f9-8bd7-997e8fef0686",
   "metadata": {},
   "outputs": [],
   "source": [
    "from sklearn.feature_extraction.text import TfidfVectorizer, CountVectorizer"
   ]
  },
  {
   "cell_type": "code",
   "execution_count": 46,
   "id": "83825051-c069-493b-a710-e7762c663de1",
   "metadata": {},
   "outputs": [],
   "source": [
    "from nltk.sentiment import SentimentIntensityAnalyzer\n"
   ]
  },
  {
   "cell_type": "code",
   "execution_count": 60,
   "id": "8bb90afa-eaa2-4e02-a5dc-26bd13a589f3",
   "metadata": {},
   "outputs": [
    {
     "data": {
      "text/html": [
       "<div>\n",
       "<style scoped>\n",
       "    .dataframe tbody tr th:only-of-type {\n",
       "        vertical-align: middle;\n",
       "    }\n",
       "\n",
       "    .dataframe tbody tr th {\n",
       "        vertical-align: top;\n",
       "    }\n",
       "\n",
       "    .dataframe thead th {\n",
       "        text-align: right;\n",
       "    }\n",
       "</style>\n",
       "<table border=\"1\" class=\"dataframe\">\n",
       "  <thead>\n",
       "    <tr style=\"text-align: right;\">\n",
       "      <th></th>\n",
       "      <th>neg</th>\n",
       "      <th>neu</th>\n",
       "      <th>pos</th>\n",
       "      <th>compound</th>\n",
       "    </tr>\n",
       "  </thead>\n",
       "  <tbody>\n",
       "    <tr>\n",
       "      <th>0</th>\n",
       "      <td>0.000</td>\n",
       "      <td>1.000</td>\n",
       "      <td>0.000</td>\n",
       "      <td>0.0000</td>\n",
       "    </tr>\n",
       "    <tr>\n",
       "      <th>1</th>\n",
       "      <td>0.053</td>\n",
       "      <td>0.947</td>\n",
       "      <td>0.000</td>\n",
       "      <td>-0.1027</td>\n",
       "    </tr>\n",
       "    <tr>\n",
       "      <th>2</th>\n",
       "      <td>0.074</td>\n",
       "      <td>0.926</td>\n",
       "      <td>0.000</td>\n",
       "      <td>-0.3400</td>\n",
       "    </tr>\n",
       "    <tr>\n",
       "      <th>3</th>\n",
       "      <td>0.000</td>\n",
       "      <td>1.000</td>\n",
       "      <td>0.000</td>\n",
       "      <td>0.0000</td>\n",
       "    </tr>\n",
       "    <tr>\n",
       "      <th>4</th>\n",
       "      <td>0.041</td>\n",
       "      <td>0.936</td>\n",
       "      <td>0.023</td>\n",
       "      <td>-0.2263</td>\n",
       "    </tr>\n",
       "    <tr>\n",
       "      <th>...</th>\n",
       "      <td>...</td>\n",
       "      <td>...</td>\n",
       "      <td>...</td>\n",
       "      <td>...</td>\n",
       "    </tr>\n",
       "    <tr>\n",
       "      <th>27596</th>\n",
       "      <td>0.000</td>\n",
       "      <td>0.867</td>\n",
       "      <td>0.133</td>\n",
       "      <td>0.6542</td>\n",
       "    </tr>\n",
       "    <tr>\n",
       "      <th>27597</th>\n",
       "      <td>0.107</td>\n",
       "      <td>0.839</td>\n",
       "      <td>0.054</td>\n",
       "      <td>-0.7579</td>\n",
       "    </tr>\n",
       "    <tr>\n",
       "      <th>27598</th>\n",
       "      <td>0.000</td>\n",
       "      <td>1.000</td>\n",
       "      <td>0.000</td>\n",
       "      <td>0.0000</td>\n",
       "    </tr>\n",
       "    <tr>\n",
       "      <th>27599</th>\n",
       "      <td>0.063</td>\n",
       "      <td>0.868</td>\n",
       "      <td>0.069</td>\n",
       "      <td>0.0516</td>\n",
       "    </tr>\n",
       "    <tr>\n",
       "      <th>27600</th>\n",
       "      <td>0.071</td>\n",
       "      <td>0.835</td>\n",
       "      <td>0.093</td>\n",
       "      <td>0.4404</td>\n",
       "    </tr>\n",
       "  </tbody>\n",
       "</table>\n",
       "<p>27601 rows × 4 columns</p>\n",
       "</div>"
      ],
      "text/plain": [
       "         neg    neu    pos  compound\n",
       "0      0.000  1.000  0.000    0.0000\n",
       "1      0.053  0.947  0.000   -0.1027\n",
       "2      0.074  0.926  0.000   -0.3400\n",
       "3      0.000  1.000  0.000    0.0000\n",
       "4      0.041  0.936  0.023   -0.2263\n",
       "...      ...    ...    ...       ...\n",
       "27596  0.000  0.867  0.133    0.6542\n",
       "27597  0.107  0.839  0.054   -0.7579\n",
       "27598  0.000  1.000  0.000    0.0000\n",
       "27599  0.063  0.868  0.069    0.0516\n",
       "27600  0.071  0.835  0.093    0.4404\n",
       "\n",
       "[27601 rows x 4 columns]"
      ]
     },
     "execution_count": 60,
     "metadata": {},
     "output_type": "execute_result"
    },
    {
     "data": {
      "text/plain": [
       "<Figure size 864x288 with 0 Axes>"
      ]
     },
     "metadata": {},
     "output_type": "display_data"
    }
   ],
   "source": [
    "sia = SentimentIntensityAnalyzer()\n",
    "plt.figure(figsize=(12,4))\n",
    "comments_rec = []\n",
    "for k in comment_stems:\n",
    "    comments_rec.append(' '.join(k))\n",
    "\n",
    "sentiment = [] \n",
    "for mess in comments_rec:\n",
    "    sentiment.append(sia.polarity_scores(mess))\n",
    "\n",
    "\n",
    "st_frame =pd.DataFrame(sentiment, columns=['neg','neu', 'pos','compound'])"
   ]
  },
  {
   "cell_type": "code",
   "execution_count": 79,
   "id": "9c131f7b-ca80-4cb6-9e79-a388153a1a44",
   "metadata": {},
   "outputs": [
    {
     "data": {
      "image/png": "[encoded data removed]",
      "text/plain": [
       "<Figure size 1447.2x813.6 with 1 Axes>"
      ]
     },
     "metadata": {},
     "output_type": "display_data"
    }
   ],
   "source": [
    "sns.set(rc={'figure.figsize':(20.10,11.30)})\n",
    "sns.histplot(st_frame['neg'], bins=30, kde=False, \n",
    "             color='red', label='negative', legend='Negative')\n",
    "sns.histplot(st_frame['pos'], bins=30, kde=False, \n",
    "             color='blue', label='Positive', legend='Positive')\n",
    "# fig = plt.figure(figsize =(10, 7))\n",
    "# plt.bar(st_frame['neg'], st_frame['pos'])\n",
    "plt.savefig('output.png')\n",
    "plt.title(f'Courbe des commentaires sur la sécurité nationale');"
   ]
  }
 ],
 "metadata": {
  "kernelspec": {
   "display_name": "Python 3 (ipykernel)",
   "language": "python",
   "name": "python3"
  },
  "language_info": {
   "codemirror_mode": {
    "name": "ipython",
    "version": 3
   },
   "file_extension": ".py",
   "mimetype": "text/x-python",
   "name": "python",
   "nbconvert_exporter": "python",
   "pygments_lexer": "ipython3",
   "version": "3.9.2"
  }
 },
 "nbformat": 4,
 "nbformat_minor": 5
}
