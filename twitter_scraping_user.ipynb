{
 "cells": [
  {
   "cell_type": "code",
   "execution_count": null,
   "id": "856d3631",
   "metadata": {},
   "outputs": [],
   "source": []
  },
  {
   "cell_type": "code",
   "execution_count": 31,
   "id": "d77899a0",
   "metadata": {},
   "outputs": [
    {
     "data": {
      "text/plain": [
       "'/home/dama/Documents/summer_school/data'"
      ]
     },
     "execution_count": 31,
     "metadata": {},
     "output_type": "execute_result"
    }
   ],
   "source": [
    "%pwd"
   ]
  },
  {
   "cell_type": "code",
   "execution_count": null,
   "id": "7f1b0122",
   "metadata": {},
   "outputs": [],
   "source": [
    "# twitter scraping by user name"
   ]
  },
  {
   "cell_type": "code",
   "execution_count": 32,
   "id": "eedb5fc0",
   "metadata": {},
   "outputs": [
    {
     "name": "stderr",
     "output_type": "stream",
     "text": [
      "/tmp/ipykernel_38871/363495288.py:17: FutureWarning: username is deprecated, use user.username instead\n",
      "  tweets.append([tweet.date, tweet.username, tweet.content])\n"
     ]
    },
    {
     "name": "stdout",
     "output_type": "stream",
     "text": [
      "                        Date       User  \\\n",
      "0  2022-09-08 21:48:19+00:00  burkina24   \n",
      "1  2022-09-08 21:45:19+00:00  burkina24   \n",
      "2  2022-09-08 20:31:27+00:00  burkina24   \n",
      "3  2022-09-08 20:29:00+00:00  burkina24   \n",
      "4  2022-09-08 20:25:41+00:00  burkina24   \n",
      "..                       ...        ...   \n",
      "95 2022-09-04 21:38:53+00:00  burkina24   \n",
      "96 2022-09-04 21:03:07+00:00  burkina24   \n",
      "97 2022-09-04 21:00:50+00:00  burkina24   \n",
      "98 2022-09-04 19:13:21+00:00  burkina24   \n",
      "99 2022-09-04 19:07:58+00:00  burkina24   \n",
      "\n",
      "                                                Tweet  \n",
      "0   #Burkina24 #Iwili #BurkinaFaso 🇧🇫 : Des leader...  \n",
      "1   #Burkina24 #Iwili #BurkinaFaso 🇧🇫 : Royaume-Un...  \n",
      "2   #Burkina24 #Iwili #BurkinaFaso 🇧🇫 : Méningite ...  \n",
      "3   #Burkina24 #Iwili : #Ouagadougou « Nous sommes...  \n",
      "4   #L’ambassade du Canada au Burkina Faso, assist...  \n",
      "..                                                ...  \n",
      "95  #Burkina24 #Iwili #BurkinaFaso 🇧🇫 : ...\"Je vou...  \n",
      "96  #Burkina24 #Iwili #BurkinaFaso 🇧🇫 : Rendez-vou...  \n",
      "97  Adresse du lieutenant-colonel Paul-Henri Sanda...  \n",
      "98  #Burkina24 #Iwili #BurkinaFaso 🇧🇫 : Rencontres...  \n",
      "99  #Burkina24 #Iwili : Voici les résultats du son...  \n",
      "\n",
      "[100 rows x 3 columns]\n",
      "Empty DataFrame\n",
      "Columns: [Date, User, Tweet]\n",
      "Index: []\n"
     ]
    },
    {
     "name": "stderr",
     "output_type": "stream",
     "text": [
      "/tmp/ipykernel_38871/363495288.py:17: FutureWarning: username is deprecated, use user.username instead\n",
      "  tweets.append([tweet.date, tweet.username, tweet.content])\n"
     ]
    },
    {
     "name": "stdout",
     "output_type": "stream",
     "text": [
      "                        Date         User  \\\n",
      "0  2022-09-08 20:48:35+00:00  ActualiteBf   \n",
      "1  2022-09-08 18:42:41+00:00  ActualiteBf   \n",
      "2  2022-09-08 18:04:32+00:00  ActualiteBf   \n",
      "3  2022-09-08 15:17:42+00:00  ActualiteBf   \n",
      "4  2022-09-08 14:42:02+00:00  ActualiteBf   \n",
      "..                       ...          ...   \n",
      "95 2022-08-30 09:19:57+00:00  ActualiteBf   \n",
      "96 2022-08-30 08:33:34+00:00  ActualiteBf   \n",
      "97 2022-08-30 07:45:02+00:00  ActualiteBf   \n",
      "98 2022-08-29 19:27:28+00:00  ActualiteBf   \n",
      "99 2022-08-29 19:17:44+00:00  ActualiteBf   \n",
      "\n",
      "                                                Tweet  \n",
      "0   #Burkina : les prix des aliments ont augmenté ...  \n",
      "1   #Annonce https://t.co/8HJeA9DzFN \\n#Lwili #Bur...  \n",
      "2   La Reine Elisabeth II s’éteint à l’âge de 96 a...  \n",
      "3   5e étape du Tour de Côte d’Ivoire : Paul Daumo...  \n",
      "4   Embuscade Dori-Bourzanga : l’ALT offre 5.500.0...  \n",
      "..                                                ...  \n",
      "95  #Ouahigouya : 38  présumés criminels jugés lor...  \n",
      "96  Dissolution de la Coordination des organisatio...  \n",
      "97  Au moins 25 000 enfants toujours portés #dispa...  \n",
      "98  Festival des cinémas d’#Afrique : L’Ambassadeu...  \n",
      "99  Conduite de la Transition : l’UEMOA reste soli...  \n",
      "\n",
      "[100 rows x 3 columns]\n"
     ]
    },
    {
     "name": "stderr",
     "output_type": "stream",
     "text": [
      "/tmp/ipykernel_38871/363495288.py:17: FutureWarning: username is deprecated, use user.username instead\n",
      "  tweets.append([tweet.date, tweet.username, tweet.content])\n"
     ]
    },
    {
     "name": "stdout",
     "output_type": "stream",
     "text": [
      "                        Date           User  \\\n",
      "0  2022-06-20 18:56:46+00:00  burkinainfotv   \n",
      "1  2022-06-08 16:31:59+00:00  burkinainfotv   \n",
      "2  2022-03-15 10:34:41+00:00  burkinainfotv   \n",
      "3  2022-03-15 10:34:21+00:00  burkinainfotv   \n",
      "4  2022-03-15 10:33:56+00:00  burkinainfotv   \n",
      "..                       ...            ...   \n",
      "95 2021-04-16 16:21:07+00:00  burkinainfotv   \n",
      "96 2021-04-16 16:17:44+00:00  burkinainfotv   \n",
      "97 2021-04-16 16:16:45+00:00  burkinainfotv   \n",
      "98 2019-06-24 13:52:56+00:00  burkinainfotv   \n",
      "99 2019-06-24 10:33:07+00:00  burkinainfotv   \n",
      "\n",
      "                                                Tweet  \n",
      "0   #BITV #Mali : Bilan officiel des attaques terr...  \n",
      "1   Mine de #Perkoa : Fin des opérations de recher...  \n",
      "2   #BurkinaInfoTv : Votre émission 100%Info du di...  \n",
      "3   #BurkinaInfoTv : Luc Adolphe Tiao sur le plate...  \n",
      "4   BITV : L'EDITO du 14/03/2022 https://t.co/6Hk7...  \n",
      "..                                                ...  \n",
      "95  #BurkinaInfoTv : Cent jours après l’investitur...  \n",
      "96  ...Je réitère ma disponibilité à poursuivre av...  \n",
      "97  #BurkinaFaso #Congo : \"Félicitations au présid...  \n",
      "98  #Burkina : Encore des victimes d'attaques d'ho...  \n",
      "99  Burkina Info\\nSection Programme\\n\\nÀ regarder ...  \n",
      "\n",
      "[100 rows x 3 columns]\n"
     ]
    },
    {
     "name": "stderr",
     "output_type": "stream",
     "text": [
      "/tmp/ipykernel_38871/363495288.py:17: FutureWarning: username is deprecated, use user.username instead\n",
      "  tweets.append([tweet.date, tweet.username, tweet.content])\n"
     ]
    },
    {
     "name": "stdout",
     "output_type": "stream",
     "text": [
      "                        Date          User  \\\n",
      "0  2022-01-24 14:05:46+00:00  rochkaborepf   \n",
      "1  2022-01-23 19:09:11+00:00  rochkaborepf   \n",
      "2  2022-01-23 12:22:17+00:00  rochkaborepf   \n",
      "3  2022-01-21 16:00:46+00:00  rochkaborepf   \n",
      "4  2022-01-21 11:15:46+00:00  rochkaborepf   \n",
      "..                       ...           ...   \n",
      "95 2021-10-31 12:56:16+00:00  rochkaborepf   \n",
      "96 2021-10-29 15:52:07+00:00  rochkaborepf   \n",
      "97 2021-10-29 13:17:03+00:00  rochkaborepf   \n",
      "98 2021-10-27 11:02:36+00:00  rochkaborepf   \n",
      "99 2021-10-26 20:31:45+00:00  rochkaborepf   \n",
      "\n",
      "                                                Tweet  \n",
      "0   Notre Nation vit des moments difficiles. \\nNou...  \n",
      "1   Bravo à nos valeureux Etalons.\\nVous avez été ...  \n",
      "2   Chers Étalons, la Nation vous renouvelle ses e...  \n",
      "3   J'ai reçu ce vendredi une délégation du Haut C...  \n",
      "4   J'ai reçu ce vendredi l'Ambassadeur de Chine L...  \n",
      "..                                                ...  \n",
      "95  Je salue la mémoire des victimes de l'insurrec...  \n",
      "96  C'est parti depuis ce matin pour la 33e éditio...  \n",
      "97  J’ai reçu ce vendredi, Son Altesse royale, Com...  \n",
      "98  Conseil des ministres ce mercredi 27 octobre 2...  \n",
      "99  C’est avec satisfaction que j’ai visité ce soi...  \n",
      "\n",
      "[100 rows x 3 columns]\n"
     ]
    },
    {
     "name": "stderr",
     "output_type": "stream",
     "text": [
      "/tmp/ipykernel_38871/363495288.py:17: FutureWarning: username is deprecated, use user.username instead\n",
      "  tweets.append([tweet.date, tweet.username, tweet.content])\n"
     ]
    },
    {
     "name": "stdout",
     "output_type": "stream",
     "text": [
      "                        Date        User  \\\n",
      "0  2022-09-08 18:11:37+00:00  AibBurkina   \n",
      "1  2022-09-08 17:58:23+00:00  AibBurkina   \n",
      "2  2022-09-08 17:40:10+00:00  AibBurkina   \n",
      "3  2022-09-08 16:52:32+00:00  AibBurkina   \n",
      "4  2022-09-08 16:27:54+00:00  AibBurkina   \n",
      "..                       ...         ...   \n",
      "95 2022-08-29 19:43:47+00:00  AibBurkina   \n",
      "96 2022-08-29 19:36:07+00:00  AibBurkina   \n",
      "97 2022-08-29 19:31:18+00:00  AibBurkina   \n",
      "98 2022-08-29 14:05:10+00:00  AibBurkina   \n",
      "99 2022-08-27 17:03:56+00:00  AibBurkina   \n",
      "\n",
      "                                                Tweet  \n",
      "0   URGENT: La reine Elizabeth II est morte à 96 a...  \n",
      "1   Gnagna : La délégation spéciale adopte le budg...  \n",
      "2   Burkina : L’attaque terroriste du 5 sept a été...  \n",
      "3   Burkina: Bissa Gold offre une ambulance et du ...  \n",
      "4   Burkina : Le PAIF-PME veut rapprocher les popu...  \n",
      "..                                                ...  \n",
      "95  Bam:Les chefs coutumiers soutiennent la Transi...  \n",
      "96                            https://t.co/0XM30oFsCQ  \n",
      "97  Burkina : une trentaine de terroristes abattus...  \n",
      "98  Politique, insécurité et nécrologie en couvert...  \n",
      "99  : L’ancien ministre Smaïla Ouédraogo lance son...  \n",
      "\n",
      "[100 rows x 3 columns]\n"
     ]
    },
    {
     "name": "stderr",
     "output_type": "stream",
     "text": [
      "/tmp/ipykernel_38871/363495288.py:17: FutureWarning: username is deprecated, use user.username instead\n",
      "  tweets.append([tweet.date, tweet.username, tweet.content])\n"
     ]
    },
    {
     "name": "stdout",
     "output_type": "stream",
     "text": [
      "                        Date        User  \\\n",
      "0  2022-09-07 20:24:27+00:00  Lefaso_net   \n",
      "1  2022-09-07 15:55:39+00:00  Lefaso_net   \n",
      "2  2022-09-06 12:21:29+00:00  Lefaso_net   \n",
      "3  2022-09-04 21:05:49+00:00  Lefaso_net   \n",
      "4  2022-08-31 19:24:22+00:00  Lefaso_net   \n",
      "..                       ...         ...   \n",
      "95 2022-06-21 15:27:12+00:00  Lefaso_net   \n",
      "96 2022-06-21 14:18:00+00:00  Lefaso_net   \n",
      "97 2022-06-21 14:17:15+00:00  Lefaso_net   \n",
      "98 2022-06-20 22:44:05+00:00  Lefaso_net   \n",
      "99 2022-06-20 14:46:54+00:00  Lefaso_net   \n",
      "\n",
      "                                                Tweet  \n",
      "0   Compte rendu du Conseil des ministres du mercr...  \n",
      "1   #BurkinaFaso : Un engin télécommandé à l’origi...  \n",
      "2   #BurkinaFaso : Vives tensions entre le Balai c...  \n",
      "3   #BurkinaFaso : Le LCL Damiba dresse un bilan e...  \n",
      "4   Situation sécuritaire et humanitaire au #Burki...  \n",
      "..                                                ...  \n",
      "95  Situation nationale : Le Président Damiba écha...  \n",
      "96  Lutte contre le terrorisme au #BurkinaFaso  : ...  \n",
      "97  Lutte contre le terrorisme au #BurkinaFaso  : ...  \n",
      "98  Lutte contre le terrorisme : Une brigade de ve...  \n",
      "99  #RDC : La #Belgique restitue la dent de Patric...  \n",
      "\n",
      "[100 rows x 3 columns]\n"
     ]
    }
   ],
   "source": [
    "import snscrape.modules.twitter as sntwitter\n",
    "import pandas as pd\n",
    "# list of user name\n",
    "list_tweet=[\"burkina24\",\"PF_Compaore\",\"ActualiteBf\",\"burkinainfotv\",\"rochkaborepf\",\"AibBurkina\",\"Lefaso_net\"]\n",
    "for tw in list_tweet:\n",
    "    query = \"(from:\"+tw+\") until:2022-09-09 since:2015-01-01\"\n",
    "    tweets = []\n",
    "    limit = 100 # limit of data items\n",
    "\n",
    "    for tweet in sntwitter.TwitterSearchScraper(query).get_items():\n",
    "\n",
    "        # print(vars(tweet))\n",
    "        # break\n",
    "        if len(tweets) == limit:\n",
    "            break\n",
    "        else:\n",
    "            tweets.append([tweet.date, tweet.username, tweet.content])\n",
    "\n",
    "    df = pd.DataFrame(tweets, columns=['Date', 'User', 'Tweet'])\n",
    "    print(df)\n",
    "\n",
    "    # to save to csv\n",
    "    df.to_csv(tw+'.csv')"
   ]
  },
  {
   "cell_type": "code",
   "execution_count": 33,
   "id": "2a491172",
   "metadata": {},
   "outputs": [],
   "source": [
    "#read data\n",
    "#import pandas as pd\n",
    "#df=pd.read_csv('tweets.csv')\n",
    "#df.head() # the first items default 5 items\n",
    "#df.tail() # the end of the data"
   ]
  },
  {
   "cell_type": "code",
   "execution_count": 34,
   "id": "d5e80b01",
   "metadata": {},
   "outputs": [],
   "source": [
    "#%cd data"
   ]
  },
  {
   "cell_type": "code",
   "execution_count": 36,
   "id": "28535b96",
   "metadata": {},
   "outputs": [],
   "source": [
    "# concatenate data\n",
    "import os\n",
    "\n",
    "filepaths = [f for f in os.listdir(\".\") if f.endswith('.csv')]\n",
    "df = pd.concat(map(pd.read_csv, filepaths))\n",
    "df.to_csv('data_twitter.csv')"
   ]
  },
  {
   "cell_type": "code",
   "execution_count": null,
   "id": "37e91bfe",
   "metadata": {},
   "outputs": [],
   "source": []
  },
  {
   "cell_type": "code",
   "execution_count": 37,
   "id": "896b3725",
   "metadata": {},
   "outputs": [],
   "source": [
    "import re\n",
    "\n",
    "def nlp_pipeline(text):\n",
    "\n",
    "    text = text.lower()\n",
    "    text = text.replace('\\n', ' ').replace('\\r', '')\n",
    "    text = ' '.join(text.split())\n",
    "    text = re.sub(r\"[A-Za-z\\.]*[0-9]+[A-Za-z%°\\.]*\", \"\", text)\n",
    "    text = re.sub(r\"(\\s\\-\\s|-$)\", \"\", text)\n",
    "    text = re.sub(r\"[,\\!\\?\\%\\(\\)\\/\\\"]\", \"\", text)\n",
    "    text = re.sub(r\"\\&\\S*\\s\", \"\", text)\n",
    "    text = re.sub(r\"\\&\", \"\", text)\n",
    "    text = re.sub(r\"\\+\", \"\", text)\n",
    "    text = re.sub(r\"\\#\", \"\", text)\n",
    "    text = re.sub(r\"\\$\", \"\", text)\n",
    "    text = re.sub(r\"\\£\", \"\", text)\n",
    "    text = re.sub(r\"\\%\", \"\", text)\n",
    "    text = re.sub(r\"\\:\", \"\", text)\n",
    "    text = re.sub(r\"\\@\", \"\", text)\n",
    "    text = re.sub(r\"\\-\", \"\", text)\n",
    "\n",
    "    return text"
   ]
  },
  {
   "cell_type": "code",
   "execution_count": null,
   "id": "5adfd7d8",
   "metadata": {},
   "outputs": [],
   "source": []
  },
  {
   "cell_type": "code",
   "execution_count": null,
   "id": "3907f4ff",
   "metadata": {
    "scrolled": true
   },
   "outputs": [],
   "source": []
  },
  {
   "cell_type": "code",
   "execution_count": 38,
   "id": "5ca9b0a1",
   "metadata": {},
   "outputs": [
    {
     "data": {
      "text/plain": [
       "0     URGENT: La reine Elizabeth II est morte à 96 a...\n",
       "1     Gnagna : La délégation spéciale adopte le budg...\n",
       "2     Burkina : L’attaque terroriste du 5 sept a été...\n",
       "3     Burkina: Bissa Gold offre une ambulance et du ...\n",
       "4     Burkina : Le PAIF-PME veut rapprocher les popu...\n",
       "                            ...                        \n",
       "95    Je salue la mémoire des victimes de l'insurrec...\n",
       "96    C'est parti depuis ce matin pour la 33e éditio...\n",
       "97    J’ai reçu ce vendredi, Son Altesse royale, Com...\n",
       "98    Conseil des ministres ce mercredi 27 octobre 2...\n",
       "99    C’est avec satisfaction que j’ai visité ce soi...\n",
       "Name: Tweet, Length: 600, dtype: object"
      ]
     },
     "execution_count": 38,
     "metadata": {},
     "output_type": "execute_result"
    }
   ],
   "source": [
    "corpus = df['Tweet']\n",
    "corpus"
   ]
  },
  {
   "cell_type": "code",
   "execution_count": 39,
   "id": "43447341",
   "metadata": {},
   "outputs": [
    {
     "data": {
      "text/plain": [
       "0     urgent la reine elizabeth ii est morte à  ans ...\n",
       "1     gnagna  la délégation spéciale adopte le budge...\n",
       "2     burkina  l’attaque terroriste du  sept a été c...\n",
       "3     burkina bissa gold offre une ambulance et du m...\n",
       "4     burkina  le paifpme veut rapprocher les popula...\n",
       "                            ...                        \n",
       "95    je salue la mémoire des victimes de l'insurrec...\n",
       "96    c'est parti depuis ce matin pour la  édition d...\n",
       "97    j’ai reçu ce vendredi son altesse royale comte...\n",
       "98    conseil des ministres ce mercredi  octobre  ht...\n",
       "99    c’est avec satisfaction que j’ai visité ce soi...\n",
       "Name: Tweet, Length: 600, dtype: object"
      ]
     },
     "execution_count": 39,
     "metadata": {},
     "output_type": "execute_result"
    }
   ],
   "source": [
    "corpus_clean = corpus.apply(nlp_pipeline)\n",
    "corpus_clean"
   ]
  },
  {
   "cell_type": "code",
   "execution_count": 24,
   "id": "1cafd659",
   "metadata": {},
   "outputs": [
    {
     "name": "stdout",
     "output_type": "stream",
     "text": [
      "Requirement already satisfied: textblob in /home/dama/anaconda3/lib/python3.9/site-packages (0.17.1)\n",
      "Requirement already satisfied: nltk>=3.1 in /home/dama/anaconda3/lib/python3.9/site-packages (from textblob) (3.7)\n",
      "Requirement already satisfied: joblib in /home/dama/anaconda3/lib/python3.9/site-packages (from nltk>=3.1->textblob) (1.1.0)\n",
      "Requirement already satisfied: click in /home/dama/anaconda3/lib/python3.9/site-packages (from nltk>=3.1->textblob) (8.0.4)\n",
      "Requirement already satisfied: regex>=2021.8.3 in /home/dama/anaconda3/lib/python3.9/site-packages (from nltk>=3.1->textblob) (2022.3.2)\n",
      "Requirement already satisfied: tqdm in /home/dama/anaconda3/lib/python3.9/site-packages (from nltk>=3.1->textblob) (4.64.0)\n",
      "Requirement already satisfied: textblob-fr in /home/dama/anaconda3/lib/python3.9/site-packages (0.2.0)\n",
      "Requirement already satisfied: textblob>=0.8.0 in /home/dama/anaconda3/lib/python3.9/site-packages (from textblob-fr) (0.17.1)\n",
      "Requirement already satisfied: nltk>=3.1 in /home/dama/anaconda3/lib/python3.9/site-packages (from textblob>=0.8.0->textblob-fr) (3.7)\n",
      "Requirement already satisfied: regex>=2021.8.3 in /home/dama/anaconda3/lib/python3.9/site-packages (from nltk>=3.1->textblob>=0.8.0->textblob-fr) (2022.3.2)\n",
      "Requirement already satisfied: click in /home/dama/anaconda3/lib/python3.9/site-packages (from nltk>=3.1->textblob>=0.8.0->textblob-fr) (8.0.4)\n",
      "Requirement already satisfied: tqdm in /home/dama/anaconda3/lib/python3.9/site-packages (from nltk>=3.1->textblob>=0.8.0->textblob-fr) (4.64.0)\n",
      "Requirement already satisfied: joblib in /home/dama/anaconda3/lib/python3.9/site-packages (from nltk>=3.1->textblob>=0.8.0->textblob-fr) (1.1.0)\n"
     ]
    }
   ],
   "source": [
    "#\n",
    "!pip install textblob\n",
    "!pip install textblob-fr"
   ]
  },
  {
   "cell_type": "code",
   "execution_count": 40,
   "id": "29a1bfb7",
   "metadata": {},
   "outputs": [],
   "source": [
    "from textblob import TextBlob\n",
    "from textblob_fr import PatternTagger, PatternAnalyzer\n",
    "\n",
    "polarity = []\n",
    "for tweet in corpus_clean:\n",
    "  polarity.append(TextBlob(tweet,pos_tagger=PatternTagger(),analyzer=PatternAnalyzer()).sentiment[0])\n"
   ]
  },
  {
   "cell_type": "code",
   "execution_count": 44,
   "id": "1fa86c6f",
   "metadata": {},
   "outputs": [
    {
     "data": {
      "image/png": "[encoded data removed]",
      "text/plain": [
       "<Figure size 432x288 with 1 Axes>"
      ]
     },
     "metadata": {
      "needs_background": "light"
     },
     "output_type": "display_data"
    }
   ],
   "source": [
    "import matplotlib.pyplot as plt\n",
    "\n",
    "plt.plot(polarity)\n",
    "plt.savefig('tweeter.png')"
   ]
  },
  {
   "cell_type": "code",
   "execution_count": 45,
   "id": "a92d2f11",
   "metadata": {},
   "outputs": [
    {
     "data": {
      "image/png": "[encoded data removed]",
      "text/plain": [
       "<Figure size 432x288 with 1 Axes>"
      ]
     },
     "metadata": {
      "needs_background": "light"
     },
     "output_type": "display_data"
    }
   ],
   "source": [
    "import numpy as np\n",
    "group = lambda liste, size : [liste[i:i+size] for i in range(0, len(liste), size)]\n",
    "\n",
    "polarity_par_paquet = group(polarity,100)\n",
    "\n",
    "liste_moyennes = []\n",
    "for l in polarity_par_paquet :\n",
    "  liste_moyennes.append(np.mean(l))\n",
    "\n",
    "plt.plot(liste_moyennes)\n",
    "\n",
    "plt.savefig('tweeter1.png')"
   ]
  },
  {
   "cell_type": "code",
   "execution_count": 3,
   "id": "436cc390",
   "metadata": {
    "scrolled": false
   },
   "outputs": [],
   "source": [
    "#polarity"
   ]
  },
  {
   "cell_type": "code",
   "execution_count": 29,
   "id": "d77c8f9f",
   "metadata": {},
   "outputs": [
    {
     "data": {
      "text/plain": [
       "<bound method NDFrame.tail of    Unnamed: 0                       Date         User  \\\n",
       "0           0  2022-09-08 20:48:35+00:00  ActualiteBf   \n",
       "1           1  2022-09-08 18:42:41+00:00  ActualiteBf   \n",
       "2           2  2022-09-08 18:04:32+00:00  ActualiteBf   \n",
       "3           3  2022-09-08 15:17:42+00:00  ActualiteBf   \n",
       "4           4  2022-09-08 14:42:02+00:00  ActualiteBf   \n",
       "5           5  2022-09-08 13:16:38+00:00  ActualiteBf   \n",
       "6           6  2022-09-08 12:05:44+00:00  ActualiteBf   \n",
       "7           7  2022-09-08 11:43:50+00:00  ActualiteBf   \n",
       "8           8  2022-09-08 07:43:35+00:00  ActualiteBf   \n",
       "9           9  2022-09-08 05:50:55+00:00  ActualiteBf   \n",
       "\n",
       "                                               Tweet  \n",
       "0  #Burkina : les prix des aliments ont augmenté ...  \n",
       "1  #Annonce https://t.co/8HJeA9DzFN \\n#Lwili #Bur...  \n",
       "2  La Reine Elisabeth II s’éteint à l’âge de 96 a...  \n",
       "3  5e étape du Tour de Côte d’Ivoire : Paul Daumo...  \n",
       "4  Embuscade Dori-Bourzanga : l’ALT offre 5.500.0...  \n",
       "5  Discours du Président Damiba : le GR dénonce u...  \n",
       "6  Libération de la sœur Tennyson : une opération...  \n",
       "7  #Afrique de l’Ouest et Centrale : plus de 12.4...  \n",
       "8  #Mali/ #Guinée : vers une coopération solide d...  \n",
       "9  #RDCongo : #Kinshasa face à une rare pénurie d...  >"
      ]
     },
     "execution_count": 29,
     "metadata": {},
     "output_type": "execute_result"
    }
   ],
   "source": [
    "df.tail"
   ]
  },
  {
   "cell_type": "code",
   "execution_count": null,
   "id": "456ba5de",
   "metadata": {},
   "outputs": [],
   "source": []
  }
 ],
 "metadata": {
  "kernelspec": {
   "display_name": "Python 3 (ipykernel)",
   "language": "python",
   "name": "python3"
  },
  "language_info": {
   "codemirror_mode": {
    "name": "ipython",
    "version": 3
   },
   "file_extension": ".py",
   "mimetype": "text/x-python",
   "name": "python",
   "nbconvert_exporter": "python",
   "pygments_lexer": "ipython3",
   "version": "3.9.12"
  }
 },
 "nbformat": 4,
 "nbformat_minor": 5
}
