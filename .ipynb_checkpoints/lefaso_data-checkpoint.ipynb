{
 "cells": [
  {
   "cell_type": "code",
   "execution_count": 71,
   "id": "f7e056a2-41ad-46ea-ab36-ffbc0d1eec17",
   "metadata": {},
   "outputs": [
    {
     "name": "stderr",
     "output_type": "stream",
     "text": [
      "[nltk_data] Downloading package udhr to /home/ibr/nltk_data...\n",
      "[nltk_data]   Package udhr is already up-to-date!\n"
     ]
    }
   ],
   "source": [
    "import pandas as pd\n",
    "import numpy as np\n",
    "import os\n",
    "import json\n",
    "import nltk\n",
    "nltk.download('udhr')\n",
    "from nltk.corpus import udhr\n",
    "from nltk.stem import PorterStemmer\n",
    "from nltk.stem import WordNetLemmatizer\n",
    "from nltk.corpus import stopwords\n",
    "from nltk.stem.snowball import FrenchStemmer\n",
    "from nltk.stem.snowball import SnowballStemmer"
   ]
  },
  {
   "cell_type": "code",
   "execution_count": 72,
   "id": "8a14fc80-c698-4476-9ac0-75b2c2d8146d",
   "metadata": {},
   "outputs": [],
   "source": [
    "def to_lower(array_string):\n",
    "    ret_value = []\n",
    "    for i in array_string:\n",
    "        ret_value.append(i.lower())\n",
    "    return ret_value"
   ]
  },
  {
   "cell_type": "code",
   "execution_count": 4,
   "id": "f062079e-007b-41b6-a029-689810436827",
   "metadata": {},
   "outputs": [],
   "source": [
    "def get_all_comment(comment_column):\n",
    "    commentaires = []\n",
    "    for i in comment_column:\n",
    "        for j in i:\n",
    "            comment = j['Comment'].lower()\n",
    "            commentaires.append(comment)\n",
    "    return commentaires"
   ]
  },
  {
   "cell_type": "code",
   "execution_count": 51,
   "id": "2da37032-c2d5-4d24-aa16-4e025164548d",
   "metadata": {},
   "outputs": [],
   "source": [
    "def tokenize(messages):\n",
    "    tokenize_message = []\n",
    "    for i in messages:\n",
    "        tokenize_message.append(nltk.word_tokenize(i, language='french'))\n",
    "    return tokenize_message"
   ]
  },
  {
   "cell_type": "code",
   "execution_count": 107,
   "id": "445eab3e-4ba2-4c57-b7c6-44cc06dc708d",
   "metadata": {},
   "outputs": [],
   "source": [
    "def cleaning(messages, stopWords):\n",
    "    clean_words = []\n",
    "    for i in messages:\n",
    "        tokens = []\n",
    "        for token in i:\n",
    "            if token not in stopWords:\n",
    "                tokens.append(token)\n",
    "        clean_words.append(tokens)\n",
    "    return clean_words"
   ]
  },
  {
   "cell_type": "code",
   "execution_count": 108,
   "id": "f7d075ea-6967-4828-9297-0fa3941a1db3",
   "metadata": {},
   "outputs": [],
   "source": [
    "def stemisation(messages):\n",
    "    # stemmer = SnowballStemmer(language='french')\n",
    "    stemmer = FrenchStemmer()\n",
    "    stemmer_words = []\n",
    "    for i in messages:\n",
    "        stems = []\n",
    "        for stem in i:\n",
    "            stems.append(stemmer.stem(stem))\n",
    "        # stems = set(stems)\n",
    "        stemmer_words.append(stems)\n",
    "    return stemmer_words\n",
    "    "
   ]
  },
  {
   "cell_type": "code",
   "execution_count": 7,
   "id": "904c3940-cdc3-41d0-8da6-1090998384f1",
   "metadata": {},
   "outputs": [],
   "source": [
    "file_path = os.path.join(os.getcwd(), \"dataset/dataset_lien_le_fasonet.json\") "
   ]
  },
  {
   "cell_type": "code",
   "execution_count": 8,
   "id": "d666ceaf-031d-46a5-abaa-dafde9bda38a",
   "metadata": {},
   "outputs": [],
   "source": [
    "data = pd.read_json(file_path)"
   ]
  },
  {
   "cell_type": "code",
   "execution_count": 9,
   "id": "ff74c4ba-0d8c-4b7b-a912-082aae553956",
   "metadata": {},
   "outputs": [],
   "source": [
    "#data.head(10)"
   ]
  },
  {
   "cell_type": "code",
   "execution_count": 10,
   "id": "7b0dfdbb-8fe3-4ddb-a7c1-e0c107a47051",
   "metadata": {},
   "outputs": [],
   "source": [
    "commentaires_corpus = get_all_comment(data['Comments'])"
   ]
  },
  {
   "cell_type": "code",
   "execution_count": 21,
   "id": "f0f97251-cc7f-4354-b4b6-a9099845d8eb",
   "metadata": {},
   "outputs": [],
   "source": [
    "french_words = udhr.words('French_Francais-Latin1')"
   ]
  },
  {
   "cell_type": "code",
   "execution_count": 12,
   "id": "53ac0ddc-2f74-4a5a-85a0-ac2711a7aede",
   "metadata": {},
   "outputs": [],
   "source": [
    "words = to_lower(french_words)"
   ]
  },
  {
   "cell_type": "code",
   "execution_count": 13,
   "id": "bc9354cc-b9cc-4f65-9024-3151f0a91336",
   "metadata": {},
   "outputs": [],
   "source": [
    "text = nltk.Text(words)"
   ]
  },
  {
   "cell_type": "code",
   "execution_count": 91,
   "id": "00b0081e-7f1e-408a-954e-c6c80a928d72",
   "metadata": {},
   "outputs": [
    {
     "name": "stderr",
     "output_type": "stream",
     "text": [
      "[nltk_data] Downloading package stopwords to /home/ibr/nltk_data...\n",
      "[nltk_data]   Package stopwords is already up-to-date!\n"
     ]
    }
   ],
   "source": [
    "nltk.download('stopwords')\n",
    "stpw = stopwords.words('french')\n",
    "stpw.append(',')\n",
    "stpw.append(';')\n",
    "stpw.append('.')\n",
    "stpw.append('%')\n",
    "stpw.append(\"'\")\n",
    "stpw.append(':')\n",
    "stpw.append('!')\n",
    "stpw.append('?')\n",
    "stpw.append('d')\n",
    "stpw = set(stpw)"
   ]
  },
  {
   "cell_type": "markdown",
   "id": "35d67e84-508e-48b8-91cb-bd053740552e",
   "metadata": {},
   "source": [
    "## Chargement des données de tendances"
   ]
  },
  {
   "cell_type": "code",
   "execution_count": 92,
   "id": "664420f5-029d-40da-b5f9-4814f212a4b2",
   "metadata": {},
   "outputs": [],
   "source": [
    "tendances = ['EI','EIS','FAMa','FAR','FDS','GANE','IED','JNIM','MINUSMA','MPSR','RN','VDP','ZIM','etat islamique','etat islamique du sahel','Forces armees du Mali','Forces armees regulieres','Groupes Arme Non Etatique','Engins explosifs improvises','Jamaat Nasr Al islam wa Al mouslimin','Mission Multidimensionnelle Integree des Nations Unies pour la Stabilisation au Mali','Mouvement Patriotique pour la Sauvegarde et la Restauration','Route Nationale','Volontaires de defense pour la Patrie','Zone d\\'interet militaire']"
   ]
  },
  {
   "cell_type": "code",
   "execution_count": 93,
   "id": "d46c7a98-8118-4503-bc7f-7d5b45d34181",
   "metadata": {},
   "outputs": [],
   "source": [
    "tendances= to_lower(tendances)"
   ]
  },
  {
   "cell_type": "code",
   "execution_count": 28,
   "id": "9cdaef43-4480-4a2a-a437-d47f57f57098",
   "metadata": {},
   "outputs": [],
   "source": [
    "## Cleanning data"
   ]
  },
  {
   "cell_type": "code",
   "execution_count": 41,
   "id": "1545407c-30f8-4de2-a4d5-6822bdc69d9b",
   "metadata": {},
   "outputs": [],
   "source": []
  },
  {
   "cell_type": "markdown",
   "id": "d6a4c0a0-d8c8-45fa-918a-ba3007bdfb8f",
   "metadata": {},
   "source": [
    "## Tokenisation"
   ]
  },
  {
   "cell_type": "code",
   "execution_count": null,
   "id": "19396978-fb4b-42b4-b30d-71e8d708f836",
   "metadata": {},
   "outputs": [],
   "source": [
    "#tokenized_commentaire = nltk.word_tokenize(commentaires_corpus, language='french')\n",
    "tokenize_comment = tokenize(commentaires_corpus)\n",
    "tokenize_tendance = tokenize(tendances)"
   ]
  },
  {
   "cell_type": "code",
   "execution_count": 115,
   "id": "bae2489f-fda2-4da0-878e-1651671488db",
   "metadata": {},
   "outputs": [
    {
     "data": {
      "text/plain": [
       "[['ei'],\n",
       " ['eis'],\n",
       " ['fama'],\n",
       " ['far'],\n",
       " ['fds'],\n",
       " ['gane'],\n",
       " ['ied'],\n",
       " ['jnim'],\n",
       " ['minusma'],\n",
       " ['mpsr'],\n",
       " ['rn'],\n",
       " ['vdp'],\n",
       " ['zim'],\n",
       " ['etat', 'islamique'],\n",
       " ['etat', 'islamique', 'sahel'],\n",
       " ['forces', 'armees', 'mali'],\n",
       " ['forces', 'armees', 'regulieres'],\n",
       " ['groupes', 'arme', 'non', 'etatique'],\n",
       " ['engins', 'explosifs', 'improvises'],\n",
       " ['jamaat', 'nasr', 'al', 'islam', 'wa', 'al', 'mouslimin'],\n",
       " ['mission',\n",
       "  'multidimensionnelle',\n",
       "  'integree',\n",
       "  'nations',\n",
       "  'unies',\n",
       "  'stabilisation',\n",
       "  'mali'],\n",
       " ['mouvement', 'patriotique', 'sauvegarde', 'restauration'],\n",
       " ['route', 'nationale'],\n",
       " ['volontaires', 'defense', 'patrie'],\n",
       " ['zone', \"d'interet\", 'militaire']]"
      ]
     },
     "execution_count": 115,
     "metadata": {},
     "output_type": "execute_result"
    }
   ],
   "source": [
    "commentaire_clean = cleaning(tokenize_comment, stpw)\n",
    "tendance_clean = cleaning(tokenize_tendance, stpw)\n",
    "tendance_clean "
   ]
  },
  {
   "cell_type": "markdown",
   "id": "3d9fd0a8-af1c-443b-b83e-c6c628d7f97c",
   "metadata": {},
   "source": [
    "## racinisation"
   ]
  },
  {
   "cell_type": "code",
   "execution_count": 125,
   "id": "5fd6af11-aa33-4aca-8f04-d23dc224e8e5",
   "metadata": {},
   "outputs": [
    {
     "data": {
      "text/plain": [
       "['ei',\n",
       " 'eis',\n",
       " 'fam',\n",
       " 'far',\n",
       " 'fd',\n",
       " 'gan',\n",
       " 'ied',\n",
       " 'jnim',\n",
       " 'minusm',\n",
       " 'mpsr',\n",
       " 'rn',\n",
       " 'vdp',\n",
       " 'zim',\n",
       " 'etat',\n",
       " 'islam',\n",
       " 'etat',\n",
       " 'islam',\n",
       " 'sahel',\n",
       " 'forc',\n",
       " 'arme',\n",
       " 'mal',\n",
       " 'forc',\n",
       " 'arme',\n",
       " 'regulier',\n",
       " 'group',\n",
       " 'arme',\n",
       " 'non',\n",
       " 'etat',\n",
       " 'engin',\n",
       " 'explos',\n",
       " 'improvis',\n",
       " 'jamaat',\n",
       " 'nasr',\n",
       " 'al',\n",
       " 'islam',\n",
       " 'wa',\n",
       " 'al',\n",
       " 'mouslimin',\n",
       " 'mission',\n",
       " 'multidimensionnel',\n",
       " 'integre',\n",
       " 'nation',\n",
       " 'uni',\n",
       " 'stabilis',\n",
       " 'mal',\n",
       " 'mouv',\n",
       " 'patriot',\n",
       " 'sauvegard',\n",
       " 'restaur',\n",
       " 'rout',\n",
       " 'national',\n",
       " 'volontair',\n",
       " 'defens',\n",
       " 'patr',\n",
       " 'zon',\n",
       " \"d'interet\",\n",
       " 'militair']"
      ]
     },
     "execution_count": 125,
     "metadata": {},
     "output_type": "execute_result"
    }
   ],
   "source": [
    "# comment_stems= stemisation([['commentaire', 'commenter']])\n",
    "comment_stems= stemisation(commentaire_clean)\n",
    "tendance_stems= stemisation(tokenize_clean)\n",
    "flat_tendance = [item for line in tendance_stems for item in line]\n",
    "flat_tendance"
   ]
  },
  {
   "cell_type": "code",
   "execution_count": 128,
   "id": "ad4d266f-6899-4918-bcbb-ed0cc819eaa6",
   "metadata": {},
   "outputs": [
    {
     "ename": "AttributeError",
     "evalue": "'Text' object has no attribute 'dispersion'",
     "output_type": "error",
     "traceback": [
      "\u001b[0;31m---------------------------------------------------------------------------\u001b[0m",
      "\u001b[0;31mAttributeError\u001b[0m                            Traceback (most recent call last)",
      "Input \u001b[0;32mIn [128]\u001b[0m, in \u001b[0;36m<cell line: 1>\u001b[0;34m()\u001b[0m\n\u001b[0;32m----> 1\u001b[0m \u001b[43mtext\u001b[49m\u001b[38;5;241;43m.\u001b[39;49m\u001b[43mdispersion\u001b[49m(flat_tendance)\n",
      "\u001b[0;31mAttributeError\u001b[0m: 'Text' object has no attribute 'dispersion'"
     ]
    }
   ],
   "source": [
    "text.dispersion(flat_tendance)"
   ]
  }
 ],
 "metadata": {
  "kernelspec": {
   "display_name": "Python 3 (ipykernel)",
   "language": "python",
   "name": "python3"
  },
  "language_info": {
   "codemirror_mode": {
    "name": "ipython",
    "version": 3
   },
   "file_extension": ".py",
   "mimetype": "text/x-python",
   "name": "python",
   "nbconvert_exporter": "python",
   "pygments_lexer": "ipython3",
   "version": "3.9.2"
  }
 },
 "nbformat": 4,
 "nbformat_minor": 5
}
